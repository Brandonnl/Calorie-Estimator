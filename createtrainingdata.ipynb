{
 "cells": [
  {
   "cell_type": "code",
   "execution_count": 61,
   "metadata": {},
   "outputs": [],
   "source": [
    "import pandas as pd\n",
    "import difflib"
   ]
  },
  {
   "cell_type": "code",
   "execution_count": 62,
   "metadata": {},
   "outputs": [],
   "source": [
    "preprocessed = pd.read_csv('data/usefulrecipecalories.csv')[['calories', 'parsed_ingredients']]\n",
    "ing = pd.read_csv('data/ingredientcalories.csv')\n",
    "check = ing['FoodItem'].str.lower()"
   ]
  },
  {
   "cell_type": "code",
   "execution_count": 82,
   "metadata": {},
   "outputs": [],
   "source": [
    "def get_cals(ing_list):\n",
    "  ing_list = ing_list.split(',')\n",
    "  lower_list = list(map(str.lower, ing_list))\n",
    "  new_ing_list = []\n",
    "  for i in range(len(lower_list)):\n",
    "    if lower_list[i] not in check:\n",
    "      new_ing = difflib.get_close_matches(lower_list[i], check, n=1)\n",
    "      if (len(new_ing) > 0):\n",
    "        new_ing_list.append(new_ing[0])\n",
    "    else:\n",
    "      new_ing_list.append(lower_list[i])\n",
    "  cleaned = ing[check.isin(new_ing_list)].drop_duplicates('FoodItem')\n",
    "  cleaned['Cals_per100grams'] = cleaned['Cals_per100grams'].map(lambda x : eval(x[:-4]))\n",
    "  cleaned.sort_values(by=['Cals_per100grams'], inplace=True, ascending=False)\n",
    "  ret = cleaned['Cals_per100grams'].to_list()\n",
    "  return ret"
   ]
  },
  {
   "cell_type": "code",
   "execution_count": 83,
   "metadata": {},
   "outputs": [],
   "source": [
    "preprocessed['parsed_ingredients'] = preprocessed['parsed_ingredients'].map(get_cals)"
   ]
  },
  {
   "cell_type": "code",
   "execution_count": 85,
   "metadata": {},
   "outputs": [],
   "source": [
    "preprocessed.to_csv('data/trainingdata.csv')"
   ]
  }
 ],
 "metadata": {
  "kernelspec": {
   "display_name": "base",
   "language": "python",
   "name": "python3"
  },
  "language_info": {
   "codemirror_mode": {
    "name": "ipython",
    "version": 3
   },
   "file_extension": ".py",
   "mimetype": "text/x-python",
   "name": "python",
   "nbconvert_exporter": "python",
   "pygments_lexer": "ipython3",
   "version": "3.8.5"
  }
 },
 "nbformat": 4,
 "nbformat_minor": 2
}
