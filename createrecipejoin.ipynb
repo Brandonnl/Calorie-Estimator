{
 "cells": [
  {
   "cell_type": "code",
   "execution_count": 1,
   "metadata": {},
   "outputs": [],
   "source": [
    "import pandas as pd"
   ]
  },
  {
   "cell_type": "code",
   "execution_count": 2,
   "metadata": {},
   "outputs": [],
   "source": [
    "recipes_with_cals = pd.read_csv('data/recipecalories.csv')\n",
    "recipes = pd.read_csv('data/food.csv')"
   ]
  },
  {
   "cell_type": "code",
   "execution_count": 3,
   "metadata": {},
   "outputs": [
    {
     "data": {
      "text/html": [
       "<div>\n",
       "<style scoped>\n",
       "    .dataframe tbody tr th:only-of-type {\n",
       "        vertical-align: middle;\n",
       "    }\n",
       "\n",
       "    .dataframe tbody tr th {\n",
       "        vertical-align: top;\n",
       "    }\n",
       "\n",
       "    .dataframe thead th {\n",
       "        text-align: right;\n",
       "    }\n",
       "</style>\n",
       "<table border=\"1\" class=\"dataframe\">\n",
       "  <thead>\n",
       "    <tr style=\"text-align: right;\">\n",
       "      <th></th>\n",
       "      <th>Title</th>\n",
       "      <th>calories</th>\n",
       "    </tr>\n",
       "  </thead>\n",
       "  <tbody>\n",
       "    <tr>\n",
       "      <th>0</th>\n",
       "      <td>\"Blanketed\" Eggplant</td>\n",
       "      <td>1386.0</td>\n",
       "    </tr>\n",
       "    <tr>\n",
       "      <th>1</th>\n",
       "      <td>\"Bloody Mary\" Tomato Toast with Celery and Hor...</td>\n",
       "      <td>189.0</td>\n",
       "    </tr>\n",
       "    <tr>\n",
       "      <th>2</th>\n",
       "      <td>\"Brown on Blonde\" Blondies</td>\n",
       "      <td>321.0</td>\n",
       "    </tr>\n",
       "    <tr>\n",
       "      <th>3</th>\n",
       "      <td>\"California Roll\" Salad</td>\n",
       "      <td>369.0</td>\n",
       "    </tr>\n",
       "    <tr>\n",
       "      <th>4</th>\n",
       "      <td>\"Candy Corn\" Frozen Citrus Cream Pops</td>\n",
       "      <td>251.0</td>\n",
       "    </tr>\n",
       "    <tr>\n",
       "      <th>...</th>\n",
       "      <td>...</td>\n",
       "      <td>...</td>\n",
       "    </tr>\n",
       "    <tr>\n",
       "      <th>15930</th>\n",
       "      <td>Zucchini-Blossom Quesadillas</td>\n",
       "      <td>132.0</td>\n",
       "    </tr>\n",
       "    <tr>\n",
       "      <th>15931</th>\n",
       "      <td>Zucchini-Cilantro Dip</td>\n",
       "      <td>162.0</td>\n",
       "    </tr>\n",
       "    <tr>\n",
       "      <th>15932</th>\n",
       "      <td>Zucchini-Herb Fritters with Garlic Yogurt</td>\n",
       "      <td>153.0</td>\n",
       "    </tr>\n",
       "    <tr>\n",
       "      <th>15933</th>\n",
       "      <td>Zucchini-Pecan Cake with Cream Cheese Frosting</td>\n",
       "      <td>453.0</td>\n",
       "    </tr>\n",
       "    <tr>\n",
       "      <th>15934</th>\n",
       "      <td>Zucchini-Wrapped Red Snapper with Tomato, Cumi...</td>\n",
       "      <td>259.0</td>\n",
       "    </tr>\n",
       "  </tbody>\n",
       "</table>\n",
       "<p>14104 rows × 2 columns</p>\n",
       "</div>"
      ],
      "text/plain": [
       "                                                   Title  calories\n",
       "0                                  \"Blanketed\" Eggplant     1386.0\n",
       "1      \"Bloody Mary\" Tomato Toast with Celery and Hor...     189.0\n",
       "2                            \"Brown on Blonde\" Blondies      321.0\n",
       "3                               \"California Roll\" Salad      369.0\n",
       "4                 \"Candy Corn\" Frozen Citrus Cream Pops      251.0\n",
       "...                                                  ...       ...\n",
       "15930                      Zucchini-Blossom Quesadillas      132.0\n",
       "15931                             Zucchini-Cilantro Dip      162.0\n",
       "15932         Zucchini-Herb Fritters with Garlic Yogurt      153.0\n",
       "15933    Zucchini-Pecan Cake with Cream Cheese Frosting      453.0\n",
       "15934  Zucchini-Wrapped Red Snapper with Tomato, Cumi...     259.0\n",
       "\n",
       "[14104 rows x 2 columns]"
      ]
     },
     "metadata": {},
     "output_type": "display_data"
    }
   ],
   "source": [
    "recipes_with_cals = recipes_with_cals.rename(columns={'title':'Title'})\n",
    "joined = recipes_with_cals.set_index(\"Title\").join(recipes.set_index(\"Title\"))\n",
    "joined = joined.dropna(subset=['calories']).reset_index().drop_duplicates(['Title'])\n",
    "display(joined[['Title', 'calories']])"
   ]
  },
  {
   "cell_type": "code",
   "execution_count": 5,
   "metadata": {},
   "outputs": [],
   "source": [
    "joined.to_csv('data/usefulrecipecalories.csv')"
   ]
  }
 ],
 "metadata": {
  "kernelspec": {
   "display_name": "base",
   "language": "python",
   "name": "python3"
  },
  "language_info": {
   "codemirror_mode": {
    "name": "ipython",
    "version": 3
   },
   "file_extension": ".py",
   "mimetype": "text/x-python",
   "name": "python",
   "nbconvert_exporter": "python",
   "pygments_lexer": "ipython3",
   "version": "3.8.5"
  }
 },
 "nbformat": 4,
 "nbformat_minor": 2
}
