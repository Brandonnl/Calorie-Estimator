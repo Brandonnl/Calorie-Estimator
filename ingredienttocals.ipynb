{
 "cells": [
  {
   "cell_type": "code",
   "execution_count": 1,
   "metadata": {},
   "outputs": [],
   "source": [
    "import pandas as pd\n",
    "import difflib"
   ]
  },
  {
   "cell_type": "code",
   "execution_count": 8,
   "metadata": {},
   "outputs": [],
   "source": [
    "ing = pd.read_csv('data/ingredientcalories.csv')"
   ]
  },
  {
   "cell_type": "code",
   "execution_count": 3,
   "metadata": {},
   "outputs": [],
   "source": [
    "# def get_list(ing_list):\n",
    "#   lower_list = list(map(str.lower, ing_list))\n",
    "#   cleaned = ing[ing['FoodItem'].str.lower().isin(lower_list)].drop_duplicates('FoodItem')\n",
    "#   cleaned['Cals_per100grams'] = cleaned['Cals_per100grams'].map(lambda x : eval(x[:-4]))\n",
    "#   cleaned.sort_values(by=['Cals_per100grams'], inplace=True)\n",
    "#   display(cleaned[['FoodItem', 'Cals_per100grams']])"
   ]
  },
  {
   "cell_type": "code",
   "execution_count": 13,
   "metadata": {},
   "outputs": [],
   "source": [
    "def get_list_better(ing_list):\n",
    "  lower_list = list(map(str.lower, ing_list))\n",
    "  check = ing['FoodItem'].str.lower()\n",
    "  for i in range(len(lower_list)):\n",
    "    if lower_list[i] not in check:\n",
    "      new_ing = difflib.get_close_matches(lower_list[i], check, n=1)[0]\n",
    "      lower_list[i] = new_ing\n",
    "  cleaned = ing[check.isin(lower_list)].drop_duplicates('FoodItem')\n",
    "  cleaned['Cals_per100grams'] = cleaned['Cals_per100grams'].map(lambda x : eval(x[:-4]))\n",
    "  cleaned.sort_values(by=['Cals_per100grams'], inplace=True, ascending=False)\n",
    "  display(cleaned[['FoodItem', 'Cals_per100grams']])"
   ]
  },
  {
   "cell_type": "code",
   "execution_count": 20,
   "metadata": {},
   "outputs": [
    {
     "data": {
      "text/html": [
       "<div>\n",
       "<style scoped>\n",
       "    .dataframe tbody tr th:only-of-type {\n",
       "        vertical-align: middle;\n",
       "    }\n",
       "\n",
       "    .dataframe tbody tr th {\n",
       "        vertical-align: top;\n",
       "    }\n",
       "\n",
       "    .dataframe thead th {\n",
       "        text-align: right;\n",
       "    }\n",
       "</style>\n",
       "<table border=\"1\" class=\"dataframe\">\n",
       "  <thead>\n",
       "    <tr style=\"text-align: right;\">\n",
       "      <th></th>\n",
       "      <th>FoodItem</th>\n",
       "      <th>Cals_per100grams</th>\n",
       "    </tr>\n",
       "  </thead>\n",
       "  <tbody>\n",
       "    <tr>\n",
       "      <th>1684</th>\n",
       "      <td>Red Lentils</td>\n",
       "      <td>329</td>\n",
       "    </tr>\n",
       "    <tr>\n",
       "      <th>2001</th>\n",
       "      <td>Fenugreek</td>\n",
       "      <td>323</td>\n",
       "    </tr>\n",
       "    <tr>\n",
       "      <th>596</th>\n",
       "      <td>Chicken</td>\n",
       "      <td>219</td>\n",
       "    </tr>\n",
       "    <tr>\n",
       "      <th>2017</th>\n",
       "      <td>Minced Onion</td>\n",
       "      <td>40</td>\n",
       "    </tr>\n",
       "    <tr>\n",
       "      <th>2027</th>\n",
       "      <td>Parsley</td>\n",
       "      <td>36</td>\n",
       "    </tr>\n",
       "    <tr>\n",
       "      <th>1067</th>\n",
       "      <td>Lime Juice</td>\n",
       "      <td>21</td>\n",
       "    </tr>\n",
       "  </tbody>\n",
       "</table>\n",
       "</div>"
      ],
      "text/plain": [
       "          FoodItem  Cals_per100grams\n",
       "1684   Red Lentils               329\n",
       "2001     Fenugreek               323\n",
       "596        Chicken               219\n",
       "2017  Minced Onion                40\n",
       "2027       Parsley                36\n",
       "1067    Lime Juice                21"
      ]
     },
     "metadata": {},
     "output_type": "display_data"
    }
   ],
   "source": [
    "get_list_better(['juice juicy lemo', 'schicken', 'finely chopped onions', 'fresh lentils', 'fenugreek', 'pound parsley'])"
   ]
  }
 ],
 "metadata": {
  "kernelspec": {
   "display_name": "Python 3",
   "language": "python",
   "name": "python3"
  },
  "language_info": {
   "codemirror_mode": {
    "name": "ipython",
    "version": 3
   },
   "file_extension": ".py",
   "mimetype": "text/x-python",
   "name": "python",
   "nbconvert_exporter": "python",
   "pygments_lexer": "ipython3",
   "version": "3.8.5"
  }
 },
 "nbformat": 4,
 "nbformat_minor": 2
}
