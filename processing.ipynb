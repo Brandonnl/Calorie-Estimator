{
 "cells": [
  {
   "cell_type": "code",
   "execution_count": 15,
   "metadata": {},
   "outputs": [
    {
     "name": "stderr",
     "output_type": "stream",
     "text": [
      "[nltk_data] Downloading package punkt to\n",
      "[nltk_data]     C:\\Users\\User\\AppData\\Roaming\\nltk_data...\n",
      "[nltk_data]   Package punkt is already up-to-date!\n",
      "[nltk_data] Downloading package averaged_perceptron_tagger to\n",
      "[nltk_data]     C:\\Users\\User\\AppData\\Roaming\\nltk_data...\n",
      "[nltk_data]   Package averaged_perceptron_tagger is already up-to-\n",
      "[nltk_data]       date!\n",
      "[nltk_data] Downloading package brown to\n",
      "[nltk_data]     C:\\Users\\User\\AppData\\Roaming\\nltk_data...\n",
      "[nltk_data]   Package brown is already up-to-date!\n"
     ]
    },
    {
     "data": {
      "text/plain": [
       "True"
      ]
     },
     "execution_count": 15,
     "metadata": {},
     "output_type": "execute_result"
    }
   ],
   "source": [
    "import matplotlib.pyplot as plt\n",
    "from PIL import Image\n",
    "from tensorflow.keras.preprocessing.image import ImageDataGenerator  \n",
    "import numpy as np \n",
    "import pandas as pd\n",
    "from string import ascii_letters\n",
    "import nltk\n",
    "nltk.download('punkt')\n",
    "nltk.download('averaged_perceptron_tagger')\n",
    "nltk.download('brown')"
   ]
  },
  {
   "cell_type": "markdown",
   "metadata": {},
   "source": [
    "# PREPROCESSING THE INGREDIENTS"
   ]
  },
  {
   "cell_type": "code",
   "execution_count": 11,
   "metadata": {},
   "outputs": [],
   "source": [
    "# need to remove these from ingredients\n",
    "measurements = (['tablespoon', 'tbsp', 'teaspoon', 'tsp', 'cup', 'pint', 'pt', \n",
    "                 'quart', 'qt', 'gallon', 'gal', 'ounce', 'ounc', 'ounces', 'oz', 'fluid', 'fl', 'pound', \n",
    "                 'lb', 'liter', 'litre', 'l', 'ml', 'gram', 'g', 'inch', 'diameter', 'meter', 'medium',\n",
    "                 'grill', 'cm', 'handful', 'size', 'firm', 'cupsg', 'cupsml', 'x', 'little'])"
   ]
  },
  {
   "cell_type": "code",
   "execution_count": 12,
   "metadata": {},
   "outputs": [],
   "source": [
    "is_noun = lambda pos: pos[:2] == 'NN'\n",
    "stemmer = nltk.stem.PorterStemmer()\n",
    "\n",
    "all_ingredients = []\n",
    "\n",
    "def parse_ingredients(row):\n",
    "    list = row['Cleaned_Ingredients'].split(',')\n",
    "    ingredients = []\n",
    "    for ingredient in list:\n",
    "        # removing non-letters\n",
    "        letter_only = ''.join(l for l in ingredient if l in set(ascii_letters + ' '))\n",
    "        # tokenizing into words\n",
    "        tokenized = nltk.word_tokenize(letter_only)\n",
    "        # remove all except nouns, and remove measurements\n",
    "        nouns = [word.lower() for (word, pos) in nltk.pos_tag(tokenized) if(pos[:2] == 'NN' or pos[:2] == 'NNS')]\n",
    "        nouns = [noun for noun in nouns if (noun not in measurements) and (stemmer.stem(noun) not in measurements)]\n",
    "        if len(tokenized) > 0 and len(nouns) == 0:\n",
    "            nouns.append(tokenized[-1])\n",
    "        # add as new row, also add to a full ingredient list as features\n",
    "        joined = ' '.join(nouns)\n",
    "        ingredients.append(joined)\n",
    "        if joined not in all_ingredients:\n",
    "            all_ingredients.append(joined)\n",
    "    return ingredients"
   ]
  },
  {
   "cell_type": "code",
   "execution_count": 13,
   "metadata": {},
   "outputs": [
    {
     "name": "stdout",
     "output_type": "stream",
     "text": [
      "0    [chicken, kosher salt, divided, more, squash t...\n",
      "1    [egg whites, potatoes, salt, pepper, rosemary,...\n",
      "2    [milk, milk, powder, onion powder, paprika, pe...\n",
      "3    [round loaf, cut cubes, oil, divided, sausage,...\n",
      "4    [dark brown sugar, water, bourbon, lemon juice...\n",
      "Name: parsed_ingredients, dtype: object\n"
     ]
    }
   ],
   "source": [
    "df = pd.read_csv('data/food.csv')\n",
    "\n",
    "#\n",
    "# UNCOMMENT THIS TO PARSE THE ENTIRE CSV\n",
    "df['parsed_ingredients'] = df.apply(parse_ingredients, axis=1)\n",
    "#\n",
    "\n",
    "print(df['parsed_ingredients'].head())"
   ]
  },
  {
   "cell_type": "code",
   "execution_count": null,
   "metadata": {},
   "outputs": [],
   "source": [
    "print(all_ingredients)"
   ]
  },
  {
   "cell_type": "markdown",
   "metadata": {},
   "source": [
    "# GETTING EMBEDDINGS FROM IMAGE"
   ]
  },
  {
   "cell_type": "code",
   "execution_count": 17,
   "metadata": {},
   "outputs": [
    {
     "name": "stderr",
     "output_type": "stream",
     "text": [
      "C:\\Users\\User\\AppData\\Roaming\\Python\\Python312\\site-packages\\tqdm\\auto.py:21: TqdmWarning: IProgress not found. Please update jupyter and ipywidgets. See https://ipywidgets.readthedocs.io/en/stable/user_install.html\n",
      "  from .autonotebook import tqdm as notebook_tqdm\n"
     ]
    }
   ],
   "source": [
    "from transformers import CLIPProcessor, CLIPModel\n",
    "import torch"
   ]
  },
  {
   "cell_type": "code",
   "execution_count": 18,
   "metadata": {},
   "outputs": [
    {
     "name": "stderr",
     "output_type": "stream",
     "text": [
      "C:\\Users\\User\\AppData\\Roaming\\Python\\Python312\\site-packages\\huggingface_hub\\file_download.py:1132: FutureWarning: `resume_download` is deprecated and will be removed in version 1.0.0. Downloads always resume when possible. If you want to force a new download, use `force_download=True`.\n",
      "  warnings.warn(\n",
      "C:\\Users\\User\\AppData\\Roaming\\Python\\Python312\\site-packages\\huggingface_hub\\file_download.py:157: UserWarning: `huggingface_hub` cache-system uses symlinks by default to efficiently store duplicated files but your machine does not support them in C:\\Users\\User\\.cache\\huggingface\\hub\\models--openai--clip-vit-base-patch32. Caching files will still work but in a degraded version that might require more space on your disk. This warning can be disabled by setting the `HF_HUB_DISABLE_SYMLINKS_WARNING` environment variable. For more details, see https://huggingface.co/docs/huggingface_hub/how-to-cache#limitations.\n",
      "To support symlinks on Windows, you either need to activate Developer Mode or to run Python as an administrator. In order to see activate developer mode, see this article: https://docs.microsoft.com/en-us/windows/apps/get-started/enable-your-device-for-development\n",
      "  warnings.warn(message)\n"
     ]
    },
    {
     "name": "stdout",
     "output_type": "stream",
     "text": [
      "torch.Size([1, 512])\n"
     ]
    }
   ],
   "source": [
    "# load CLIP\n",
    "model_name = \"openai/clip-vit-base-patch32\"\n",
    "clip_processor = CLIPProcessor.from_pretrained(model_name)\n",
    "clip_model = CLIPModel.from_pretrained(model_name)\n",
    "clip_model.eval()\n",
    "\n",
    "# get image encodings for our model\n",
    "def encode_image(image_path):\n",
    "    # returns pytorch tensors\n",
    "    image = Image.open(image_path)\n",
    "    inputs = clip_processor(images=image, return_tensors=\"pt\")\n",
    "\n",
    "    # encode image, stop gradient calculation and backpropagation\n",
    "    with torch.no_grad():\n",
    "        image_features = clip_model.get_image_features(**inputs)\n",
    "\n",
    "    return image_features\n",
    "\n",
    "# Example usage\n",
    "image_path = 'data/images/images/3-ingredient-blueberry-champagne-granita.jpg'\n",
    "image_features = encode_image(image_path)\n",
    "print(image_features.shape)  # Shape of the image features (batch_size, feature_dim)\n",
    "\n",
    "# The image features will be a tensor of shape (1, 512), where 512 is the dimensionality of the image embeddings."
   ]
  }
 ],
 "metadata": {
  "kernelspec": {
   "display_name": "Python 3",
   "language": "python",
   "name": "python3"
  },
  "language_info": {
   "codemirror_mode": {
    "name": "ipython",
    "version": 3
   },
   "file_extension": ".py",
   "mimetype": "text/x-python",
   "name": "python",
   "nbconvert_exporter": "python",
   "pygments_lexer": "ipython3",
   "version": "3.12.0"
  }
 },
 "nbformat": 4,
 "nbformat_minor": 2
}
