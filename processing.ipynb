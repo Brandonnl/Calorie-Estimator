{
 "cells": [
  {
   "cell_type": "code",
   "execution_count": 58,
   "metadata": {},
   "outputs": [
    {
     "name": "stderr",
     "output_type": "stream",
     "text": [
      "[nltk_data] Downloading package punkt to\n",
      "[nltk_data]     C:\\Users\\User\\AppData\\Roaming\\nltk_data...\n",
      "[nltk_data]   Package punkt is already up-to-date!\n",
      "[nltk_data] Downloading package averaged_perceptron_tagger to\n",
      "[nltk_data]     C:\\Users\\User\\AppData\\Roaming\\nltk_data...\n",
      "[nltk_data]   Package averaged_perceptron_tagger is already up-to-\n",
      "[nltk_data]       date!\n",
      "[nltk_data] Downloading package brown to\n",
      "[nltk_data]     C:\\Users\\User\\AppData\\Roaming\\nltk_data...\n",
      "[nltk_data]   Package brown is already up-to-date!\n"
     ]
    },
    {
     "data": {
      "text/plain": [
       "True"
      ]
     },
     "execution_count": 58,
     "metadata": {},
     "output_type": "execute_result"
    }
   ],
   "source": [
    "import matplotlib.pyplot as plt\n",
    "from PIL import Image\n",
    "from tensorflow.keras.preprocessing.image import ImageDataGenerator  \n",
    "import numpy as np \n",
    "import pandas as pd\n",
    "import nltk\n",
    "\n",
    "from string import ascii_letters\n",
    "nltk.download('punkt')\n",
    "nltk.download('averaged_perceptron_tagger')\n",
    "nltk.download('brown')"
   ]
  },
  {
   "cell_type": "code",
   "execution_count": 91,
   "metadata": {},
   "outputs": [],
   "source": [
    "measurements = (['tablespoon', 'tbsp', 'teaspoon', 'tsp', 'cup', 'pint', 'pt', \n",
    "                 'quart', 'qt', 'gallon', 'gal', 'ounce', 'oz', 'fluid', 'pound', 'lb',\n",
    "                 'liter', 'litre', 'gram', 'inch', 'diameter', 'meter'])"
   ]
  },
  {
   "cell_type": "code",
   "execution_count": 94,
   "metadata": {},
   "outputs": [],
   "source": [
    "is_noun = lambda pos: pos[:2] == 'NN'\n",
    "stemmer = nltk.stem.PorterStemmer()\n",
    "def parse_ingredients(row):\n",
    "    list = row['Cleaned_Ingredients'].split(',')\n",
    "    ingredients = []\n",
    "    for ingredient in list:\n",
    "        print(ingredient)\n",
    "        letter_only = ''.join(l for l in ingredient if l in set(ascii_letters + ' '))\n",
    "        print(letter_only)\n",
    "        tokenized = nltk.word_tokenize(letter_only)\n",
    "        nouns = [word.lower() for (word, pos) in nltk.pos_tag(tokenized) if(pos[:2] == 'NN' or pos[:2] == 'NNS')]\n",
    "        print(nouns)\n",
    "        nouns = [noun for noun in nouns if (noun not in measurements) and (stemmer.stem(noun) not in measurements)]\n",
    "        if len(nouns) == 0:\n",
    "            nouns.append(tokenized[-1])\n",
    "        ingredients.append(' '.join(nouns))\n",
    "    return ingredients"
   ]
  },
  {
   "cell_type": "code",
   "execution_count": 95,
   "metadata": {},
   "outputs": [
    {
     "name": "stdout",
     "output_type": "stream",
     "text": [
      "['2 large egg whites'\n",
      " large egg whites\n",
      "['egg', 'whites']\n",
      " '1 pound new potatoes (about 1 inch in diameter)'\n",
      "  pound new potatoes about  inch in diameter\n",
      "['pound', 'potatoes', 'inch', 'diameter']\n",
      " '2 teaspoons kosher salt'\n",
      "  teaspoons kosher salt\n",
      "['teaspoons', 'salt']\n",
      " '¾ teaspoon finely ground black pepper'\n",
      "  teaspoon finely ground black pepper\n",
      "['teaspoon', 'pepper']\n",
      " '1 teaspoon finely chopped rosemary'\n",
      "  teaspoon finely chopped rosemary\n",
      "['teaspoon']\n",
      " '1 teaspoon finely chopped thyme'\n",
      "  teaspoon finely chopped thyme\n",
      "['teaspoon', 'thyme']\n",
      " '1 teaspoon finely chopped parsley']\n",
      "  teaspoon finely chopped parsley\n",
      "['teaspoon', 'parsley']\n",
      "['egg whites', 'potatoes', 'salt', 'pepper', 'rosemary', 'thyme', 'parsley']\n",
      "   Unnamed: 0                                              Title  \\\n",
      "0           0  Miso-Butter Roast Chicken With Acorn Squash Pa...   \n",
      "1           1                    Crispy Salt and Pepper Potatoes   \n",
      "2           2                        Thanksgiving Mac and Cheese   \n",
      "3           3                 Italian Sausage and Bread Stuffing   \n",
      "4           4                                       Newton's Law   \n",
      "\n",
      "                                         Ingredients  \\\n",
      "0  ['1 (3½–4-lb.) whole chicken', '2¾ tsp. kosher...   \n",
      "1  ['2 large egg whites', '1 pound new potatoes (...   \n",
      "2  ['1 cup evaporated milk', '1 cup whole milk', ...   \n",
      "3  ['1 (¾- to 1-pound) round Italian loaf, cut in...   \n",
      "4  ['1 teaspoon dark brown sugar', '1 teaspoon ho...   \n",
      "\n",
      "                                        Instructions  \\\n",
      "0  Pat chicken dry with paper towels, season all ...   \n",
      "1  Preheat oven to 400°F and line a rimmed baking...   \n",
      "2  Place a rack in middle of oven; preheat to 400...   \n",
      "3  Preheat oven to 350°F with rack in middle. Gen...   \n",
      "4  Stir together brown sugar and hot water in a c...   \n",
      "\n",
      "                                          Image_Name  \\\n",
      "0  miso-butter-roast-chicken-acorn-squash-panzanella   \n",
      "1         crispy-salt-and-pepper-potatoes-dan-kluger   \n",
      "2         thanksgiving-mac-and-cheese-erick-williams   \n",
      "3          italian-sausage-and-bread-stuffing-240559   \n",
      "4                 newtons-law-apple-bourbon-cocktail   \n",
      "\n",
      "                                 Cleaned_Ingredients  \n",
      "0  ['1 (3½–4-lb.) whole chicken', '2¾ tsp. kosher...  \n",
      "1  ['2 large egg whites', '1 pound new potatoes (...  \n",
      "2  ['1 cup evaporated milk', '1 cup whole milk', ...  \n",
      "3  ['1 (¾- to 1-pound) round Italian loaf, cut in...  \n",
      "4  ['1 teaspoon dark brown sugar', '1 teaspoon ho...  \n"
     ]
    }
   ],
   "source": [
    "df = pd.read_csv('data/food.csv')\n",
    "#\n",
    "# UNCOMMENT THIS TO PARSE THE ENTIRE CSV\n",
    "# df['parsed_ingredients'] = df.apply(parse_ingredients, axis=1)\n",
    "#\n",
    "\n",
    "print(parse_ingredients(df.iloc[1]))\n",
    "print(df.head())"
   ]
  }
 ],
 "metadata": {
  "kernelspec": {
   "display_name": "Python 3",
   "language": "python",
   "name": "python3"
  },
  "language_info": {
   "codemirror_mode": {
    "name": "ipython",
    "version": 3
   },
   "file_extension": ".py",
   "mimetype": "text/x-python",
   "name": "python",
   "nbconvert_exporter": "python",
   "pygments_lexer": "ipython3",
   "version": "3.12.0"
  }
 },
 "nbformat": 4,
 "nbformat_minor": 2
}
